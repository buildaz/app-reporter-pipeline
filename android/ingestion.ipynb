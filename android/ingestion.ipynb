{
 "cells": [
  {
   "cell_type": "code",
   "execution_count": 1,
   "metadata": {},
   "outputs": [],
   "source": [
    "MARKETS = [\n",
    "    ('pt', 'br')\n",
    "]\n",
    "APP_ID = 'br.com.lojasrenner'"
   ]
  },
  {
   "cell_type": "code",
   "execution_count": 2,
   "metadata": {},
   "outputs": [],
   "source": [
    "import serpapi"
   ]
  },
  {
   "cell_type": "code",
   "execution_count": null,
   "metadata": {},
   "outputs": [],
   "source": [
    "client = serpapi.Client(api_key='INSERT API KEY HERE')"
   ]
  },
  {
   "cell_type": "code",
   "execution_count": 4,
   "metadata": {},
   "outputs": [],
   "source": [
    "from datetime import datetime\n",
    "ingestion_timestamp = datetime.now()"
   ]
  },
  {
   "cell_type": "code",
   "execution_count": 5,
   "metadata": {},
   "outputs": [],
   "source": [
    "def fetch_reviews_2024(id, hl, gl):\n",
    "    since = datetime.strptime('2024-01-01', '%Y-%m-%d')\n",
    "    reviews = []\n",
    "    pagination_token = None\n",
    "    try:\n",
    "        while True:\n",
    "            print('Fetching reviews...')\n",
    "            params = {\n",
    "                'engine': 'google_play_product',\n",
    "                'product_id': id,\n",
    "                'store': 'apps',\n",
    "                'all_reviews': 'true',\n",
    "                'num': 199,\n",
    "                'gl': gl,\n",
    "                'hl': hl,\n",
    "                'sort_by': 2,\n",
    "            }\n",
    "            if pagination_token:\n",
    "                params['next_page_token'] = pagination_token\n",
    "            results = client.search(params=params)\n",
    "            if results.get('error'):\n",
    "                print(f'Error for {hl}-{gl}: {results['error']}')\n",
    "                break\n",
    "            since_reviews = list(\n",
    "                filter(lambda review: datetime.strptime(review['iso_date'], '%Y-%m-%dT%H:%M:%SZ').date() >= since.date(),\n",
    "                results['reviews']))\n",
    "            if len(since_reviews) == 0: break\n",
    "            reviews.extend(since_reviews)\n",
    "            pagination_token = results.get('serpapi_pagination', {}).get('next_page_token')\n",
    "            if not pagination_token: break\n",
    "        print(f'Reviews fetched for {hl}-{gl}: {len(reviews)}')\n",
    "        return reviews\n",
    "    except Exception as e:\n",
    "        print(f'Error fetching reviews for{hl}-{gl}: {e}')\n",
    "        return reviews"
   ]
  },
  {
   "cell_type": "code",
   "execution_count": 6,
   "metadata": {},
   "outputs": [
    {
     "name": "stdout",
     "output_type": "stream",
     "text": [
      "Fetching reviews...\n",
      "Fetching reviews...\n",
      "Fetching reviews...\n",
      "Fetching reviews...\n",
      "Fetching reviews...\n",
      "Fetching reviews...\n",
      "Fetching reviews...\n",
      "Fetching reviews...\n",
      "Fetching reviews...\n",
      "Fetching reviews...\n",
      "Fetching reviews...\n",
      "Fetching reviews...\n",
      "Fetching reviews...\n",
      "Fetching reviews...\n",
      "Fetching reviews...\n",
      "Fetching reviews...\n",
      "Fetching reviews...\n",
      "Fetching reviews...\n",
      "Fetching reviews...\n",
      "Fetching reviews...\n",
      "Fetching reviews...\n",
      "Fetching reviews...\n",
      "Fetching reviews...\n",
      "Fetching reviews...\n",
      "Fetching reviews...\n",
      "Fetching reviews...\n",
      "Fetching reviews...\n",
      "Fetching reviews...\n",
      "Fetching reviews...\n",
      "Fetching reviews...\n",
      "Fetching reviews...\n",
      "Fetching reviews...\n",
      "Fetching reviews...\n",
      "Fetching reviews...\n",
      "Fetching reviews...\n",
      "Fetching reviews...\n",
      "Fetching reviews...\n",
      "Fetching reviews...\n",
      "Fetching reviews...\n",
      "Fetching reviews...\n",
      "Reviews fetched for pt-br: 7737\n"
     ]
    }
   ],
   "source": [
    "market_reviews = {}\n",
    "\n",
    "for market in MARKETS:\n",
    "    reviews = fetch_reviews_2024(APP_ID, *market)\n",
    "    market_reviews[f'{market[0]}-{market[1]}'] = reviews"
   ]
  },
  {
   "cell_type": "code",
   "execution_count": 7,
   "metadata": {},
   "outputs": [],
   "source": [
    "PROVIDER = 'Renner'\n",
    "PEER_GROUP = 'FASHION'\n",
    "\n",
    "import re\n",
    "\n",
    "import pandas as pd\n",
    "market_dataframes = {}\n",
    "ingestion_timestamp = datetime.now()\n",
    "\n",
    "for market in market_reviews:\n",
    "    reviews = market_reviews[market]\n",
    "    if len(reviews) == 0: continue\n",
    "    lang, country = '', ''\n",
    "    match = re.match(r'([a-z-]+)-([a-z-]+)', market)\n",
    "    if match:\n",
    "        lang, country = match.groups()\n",
    "    reviews_dict = [\n",
    "        {\n",
    "            'app_id': APP_ID,\n",
    "            'lang': lang,\n",
    "            'country': country,\n",
    "            'content': review['snippet'],\n",
    "            'score': review['rating'],\n",
    "            'created_at': datetime.strptime(review['iso_date'], '%Y-%m-%dT%H:%M:%SZ'),\n",
    "            'fetched_at': ingestion_timestamp,\n",
    "            'provider': PROVIDER,\n",
    "            'peer_group': PEER_GROUP\n",
    "        } for review in reviews\n",
    "    ]\n",
    "    df = pd.DataFrame(reviews_dict)\n",
    "    market_dataframes[market] = df"
   ]
  },
  {
   "cell_type": "code",
   "execution_count": 8,
   "metadata": {},
   "outputs": [],
   "source": [
    "for market in market_dataframes:\n",
    "    df = market_dataframes[market]\n",
    "    df.to_csv(f'./{APP_ID}.{market}.csv', index=False)"
   ]
  }
 ],
 "metadata": {
  "kernelspec": {
   "display_name": "venv",
   "language": "python",
   "name": "python3"
  },
  "language_info": {
   "codemirror_mode": {
    "name": "ipython",
    "version": 3
   },
   "file_extension": ".py",
   "mimetype": "text/x-python",
   "name": "python",
   "nbconvert_exporter": "python",
   "pygments_lexer": "ipython3",
   "version": "3.12.3"
  }
 },
 "nbformat": 4,
 "nbformat_minor": 2
}
