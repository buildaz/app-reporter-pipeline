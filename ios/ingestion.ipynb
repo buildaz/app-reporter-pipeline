{
 "cells": [
  {
   "cell_type": "code",
   "execution_count": 1,
   "metadata": {},
   "outputs": [],
   "source": [
    "import serpapi\n",
    "import pandas as pd"
   ]
  },
  {
   "cell_type": "code",
   "execution_count": 2,
   "metadata": {},
   "outputs": [],
   "source": [
    "MARKETS = [\n",
    "    'br'\n",
    "]\n",
    "\n",
    "APP_ID = '567763947'"
   ]
  },
  {
   "cell_type": "code",
   "execution_count": null,
   "metadata": {},
   "outputs": [],
   "source": [
    "client = serpapi.Client(api_key='INSERT API KEY HERE')"
   ]
  },
  {
   "cell_type": "code",
   "execution_count": 4,
   "metadata": {},
   "outputs": [],
   "source": [
    "from datetime import datetime\n",
    "\n",
    "import re\n",
    "\n",
    "# due to a lack of date string pattern and\\or fragmentation,\n",
    "# the filter will be made by regex\n",
    "def filter_2024(review):\n",
    "    pattern = re.compile(r'2024')\n",
    "    pattern_2025 = re.compile(r'2025')\n",
    "    return bool(pattern.search(review['review_date'])) or bool(pattern_2025.search(review['review_date']))\n",
    "\n",
    "def fetch_reviews_2024(id, country):\n",
    "    page = 1\n",
    "    reviews = []\n",
    "    since = datetime.strptime('2024-01-01', '%Y-%m-%d')\n",
    "    try:\n",
    "        while True:\n",
    "            print(f'Fetching reviews for {id} ({country})...')\n",
    "            params = {\n",
    "                'product_id': id,\n",
    "                'engine': 'apple_reviews',\n",
    "                'sort': 'mostrecent',\n",
    "                'country': country,\n",
    "                'page': page\n",
    "            }\n",
    "            result = client.search(params=params)\n",
    "            if result.get('error'):\n",
    "                print(f'Error: {result['error']}')\n",
    "                break\n",
    "            since_reviews = list(filter(\n",
    "                filter_2024, result['reviews']\n",
    "            ))\n",
    "            if len(since_reviews) == 0: break\n",
    "            page += 1\n",
    "            reviews += since_reviews\n",
    "        print(f'Reviews fetched: {len(reviews)}')\n",
    "        return reviews\n",
    "    except Exception as e:\n",
    "        print(f'Error fetching reviews: {e}')\n",
    "        return reviews"
   ]
  },
  {
   "cell_type": "code",
   "execution_count": 5,
   "metadata": {},
   "outputs": [
    {
     "name": "stdout",
     "output_type": "stream",
     "text": [
      "Fetching reviews for 567763947 (br)...\n",
      "Fetching reviews for 567763947 (br)...\n",
      "Fetching reviews for 567763947 (br)...\n",
      "Fetching reviews for 567763947 (br)...\n",
      "Fetching reviews for 567763947 (br)...\n",
      "Fetching reviews for 567763947 (br)...\n",
      "Fetching reviews for 567763947 (br)...\n",
      "Fetching reviews for 567763947 (br)...\n",
      "Fetching reviews for 567763947 (br)...\n",
      "Fetching reviews for 567763947 (br)...\n",
      "Fetching reviews for 567763947 (br)...\n",
      "Fetching reviews for 567763947 (br)...\n",
      "Fetching reviews for 567763947 (br)...\n",
      "Fetching reviews for 567763947 (br)...\n",
      "Fetching reviews for 567763947 (br)...\n",
      "Fetching reviews for 567763947 (br)...\n",
      "Fetching reviews for 567763947 (br)...\n",
      "Fetching reviews for 567763947 (br)...\n",
      "Fetching reviews for 567763947 (br)...\n",
      "Fetching reviews for 567763947 (br)...\n",
      "Fetching reviews for 567763947 (br)...\n",
      "Fetching reviews for 567763947 (br)...\n",
      "Fetching reviews for 567763947 (br)...\n",
      "Fetching reviews for 567763947 (br)...\n",
      "Fetching reviews for 567763947 (br)...\n",
      "Fetching reviews for 567763947 (br)...\n",
      "Fetching reviews for 567763947 (br)...\n",
      "Fetching reviews for 567763947 (br)...\n",
      "Fetching reviews for 567763947 (br)...\n",
      "Fetching reviews for 567763947 (br)...\n",
      "Fetching reviews for 567763947 (br)...\n",
      "Fetching reviews for 567763947 (br)...\n",
      "Fetching reviews for 567763947 (br)...\n",
      "Fetching reviews for 567763947 (br)...\n",
      "Fetching reviews for 567763947 (br)...\n",
      "Fetching reviews for 567763947 (br)...\n",
      "Fetching reviews for 567763947 (br)...\n",
      "Fetching reviews for 567763947 (br)...\n",
      "Fetching reviews for 567763947 (br)...\n",
      "Fetching reviews for 567763947 (br)...\n",
      "Fetching reviews for 567763947 (br)...\n",
      "Fetching reviews for 567763947 (br)...\n",
      "Fetching reviews for 567763947 (br)...\n",
      "Fetching reviews for 567763947 (br)...\n",
      "Fetching reviews for 567763947 (br)...\n",
      "Fetching reviews for 567763947 (br)...\n",
      "Fetching reviews for 567763947 (br)...\n",
      "Fetching reviews for 567763947 (br)...\n",
      "Fetching reviews for 567763947 (br)...\n",
      "Fetching reviews for 567763947 (br)...\n",
      "Fetching reviews for 567763947 (br)...\n",
      "Reviews fetched: 1247\n"
     ]
    }
   ],
   "source": [
    "market_reviews = {}\n",
    "\n",
    "for market in MARKETS:\n",
    "    reviews = fetch_reviews_2024(APP_ID, market)\n",
    "    market_reviews[market] = reviews"
   ]
  },
  {
   "cell_type": "code",
   "execution_count": 6,
   "metadata": {},
   "outputs": [
    {
     "name": "stdout",
     "output_type": "stream",
     "text": [
      "Reviews fetched for br: 1247\n"
     ]
    }
   ],
   "source": [
    "for market in market_reviews:\n",
    "    print(f'Reviews fetched for {market}: {len(market_reviews[market])}')"
   ]
  },
  {
   "cell_type": "code",
   "execution_count": null,
   "metadata": {},
   "outputs": [],
   "source": [
    "PROVIDER = 'Renner'\n",
    "PEER_GROUP = 'SHOPPING'\n",
    "\n",
    "market_dataframes = {}\n",
    "ingestion_timestamp = datetime.now()\n",
    "\n",
    "for market in market_reviews:\n",
    "    reviews = market_reviews[market]\n",
    "    if len(reviews) == 0: continue\n",
    "    reviews_dict = [\n",
    "        {\n",
    "            'app_id': APP_ID,\n",
    "            'country': market,\n",
    "            'title': review['title'],\n",
    "            'content': review['text'],\n",
    "            'score': review['rating'],\n",
    "            'review_date': review['review_date'],\n",
    "            'fetched_at': ingestion_timestamp,\n",
    "            'provider': PROVIDER,\n",
    "            'peer_group': PEER_GROUP\n",
    "        } for review in reviews\n",
    "    ]\n",
    "    df = pd.DataFrame(reviews_dict)\n",
    "    market_dataframes[market] = df"
   ]
  },
  {
   "cell_type": "code",
   "execution_count": 8,
   "metadata": {},
   "outputs": [],
   "source": [
    "for market in market_dataframes:\n",
    "    df = market_dataframes[market]\n",
    "    df.to_csv(f'{APP_ID}.{market}.csv', index=False)"
   ]
  }
 ],
 "metadata": {
  "kernelspec": {
   "display_name": "venv",
   "language": "python",
   "name": "python3"
  },
  "language_info": {
   "codemirror_mode": {
    "name": "ipython",
    "version": 3
   },
   "file_extension": ".py",
   "mimetype": "text/x-python",
   "name": "python",
   "nbconvert_exporter": "python",
   "pygments_lexer": "ipython3",
   "version": "3.12.3"
  }
 },
 "nbformat": 4,
 "nbformat_minor": 2
}
